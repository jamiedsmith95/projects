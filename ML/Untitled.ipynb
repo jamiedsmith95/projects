{
 "cells": [
  {
   "cell_type": "code",
   "execution_count": 1,
   "id": "eef22fcb",
   "metadata": {},
   "outputs": [],
   "source": [
    "import pandas as pd\n",
    "from sklearn.model_selection import train_test_split"
   ]
  },
  {
   "cell_type": "code",
   "execution_count": 2,
   "id": "86a0672e",
   "metadata": {},
   "outputs": [
    {
     "data": {
      "text/html": [
       "<div>\n",
       "<style scoped>\n",
       "    .dataframe tbody tr th:only-of-type {\n",
       "        vertical-align: middle;\n",
       "    }\n",
       "\n",
       "    .dataframe tbody tr th {\n",
       "        vertical-align: top;\n",
       "    }\n",
       "\n",
       "    .dataframe thead th {\n",
       "        text-align: right;\n",
       "    }\n",
       "</style>\n",
       "<table border=\"1\" class=\"dataframe\">\n",
       "  <thead>\n",
       "    <tr style=\"text-align: right;\">\n",
       "      <th></th>\n",
       "      <th>Customer ID</th>\n",
       "      <th>Gender</th>\n",
       "      <th>Senior Citizen</th>\n",
       "      <th>Partner</th>\n",
       "      <th>Dependents</th>\n",
       "      <th>tenure</th>\n",
       "      <th>Phone Service</th>\n",
       "      <th>Multiple Lines</th>\n",
       "      <th>Internet Service</th>\n",
       "      <th>Online Security</th>\n",
       "      <th>...</th>\n",
       "      <th>Device Protection</th>\n",
       "      <th>Tech Support</th>\n",
       "      <th>Streaming TV</th>\n",
       "      <th>Streaming Movies</th>\n",
       "      <th>Contract</th>\n",
       "      <th>Paperless Billing</th>\n",
       "      <th>Payment Method</th>\n",
       "      <th>Monthly Charges</th>\n",
       "      <th>Total Charges</th>\n",
       "      <th>Churn</th>\n",
       "    </tr>\n",
       "  </thead>\n",
       "  <tbody>\n",
       "    <tr>\n",
       "      <th>0</th>\n",
       "      <td>7590-VHVEA</td>\n",
       "      <td>Female</td>\n",
       "      <td>0</td>\n",
       "      <td>Yes</td>\n",
       "      <td>No</td>\n",
       "      <td>1</td>\n",
       "      <td>No</td>\n",
       "      <td>No phone service</td>\n",
       "      <td>DSL</td>\n",
       "      <td>No</td>\n",
       "      <td>...</td>\n",
       "      <td>No</td>\n",
       "      <td>No</td>\n",
       "      <td>No</td>\n",
       "      <td>No</td>\n",
       "      <td>Month-to-month</td>\n",
       "      <td>Yes</td>\n",
       "      <td>Electronic check</td>\n",
       "      <td>29.85</td>\n",
       "      <td>29.85</td>\n",
       "      <td>No</td>\n",
       "    </tr>\n",
       "    <tr>\n",
       "      <th>1</th>\n",
       "      <td>7590-VHVEG</td>\n",
       "      <td>Female</td>\n",
       "      <td>0</td>\n",
       "      <td>Yes</td>\n",
       "      <td>No</td>\n",
       "      <td>1</td>\n",
       "      <td>No</td>\n",
       "      <td>No phone service</td>\n",
       "      <td>DSL</td>\n",
       "      <td>No</td>\n",
       "      <td>...</td>\n",
       "      <td>No</td>\n",
       "      <td>No</td>\n",
       "      <td>No</td>\n",
       "      <td>No</td>\n",
       "      <td>Month-to-month</td>\n",
       "      <td>Yes</td>\n",
       "      <td>Electronic check</td>\n",
       "      <td>29.85</td>\n",
       "      <td>29.85</td>\n",
       "      <td>No</td>\n",
       "    </tr>\n",
       "    <tr>\n",
       "      <th>2</th>\n",
       "      <td>5575-GNVDE</td>\n",
       "      <td>Male</td>\n",
       "      <td>0</td>\n",
       "      <td>No</td>\n",
       "      <td>No</td>\n",
       "      <td>34</td>\n",
       "      <td>Yes</td>\n",
       "      <td>No</td>\n",
       "      <td>DSL</td>\n",
       "      <td>Yes</td>\n",
       "      <td>...</td>\n",
       "      <td>Yes</td>\n",
       "      <td>No</td>\n",
       "      <td>No</td>\n",
       "      <td>No</td>\n",
       "      <td>One year</td>\n",
       "      <td>No</td>\n",
       "      <td>Mailed check</td>\n",
       "      <td>56.95</td>\n",
       "      <td>1889.5</td>\n",
       "      <td>No</td>\n",
       "    </tr>\n",
       "    <tr>\n",
       "      <th>3</th>\n",
       "      <td>3668-QPYBK</td>\n",
       "      <td>Male</td>\n",
       "      <td>0</td>\n",
       "      <td>No</td>\n",
       "      <td>No</td>\n",
       "      <td>2</td>\n",
       "      <td>Yes</td>\n",
       "      <td>No</td>\n",
       "      <td>DSL</td>\n",
       "      <td>Yes</td>\n",
       "      <td>...</td>\n",
       "      <td>No</td>\n",
       "      <td>No</td>\n",
       "      <td>No</td>\n",
       "      <td>No</td>\n",
       "      <td>Month-to-month</td>\n",
       "      <td>Yes</td>\n",
       "      <td>Mailed check</td>\n",
       "      <td>53.85</td>\n",
       "      <td>108.15</td>\n",
       "      <td>Yes</td>\n",
       "    </tr>\n",
       "    <tr>\n",
       "      <th>4</th>\n",
       "      <td>7795-CFOCW</td>\n",
       "      <td>Male</td>\n",
       "      <td>0</td>\n",
       "      <td>No</td>\n",
       "      <td>No</td>\n",
       "      <td>45</td>\n",
       "      <td>No</td>\n",
       "      <td>No phone service</td>\n",
       "      <td>DSL</td>\n",
       "      <td>Yes</td>\n",
       "      <td>...</td>\n",
       "      <td>Yes</td>\n",
       "      <td>Yes</td>\n",
       "      <td>No</td>\n",
       "      <td>No</td>\n",
       "      <td>One year</td>\n",
       "      <td>No</td>\n",
       "      <td>Bank transfer (automatic)</td>\n",
       "      <td>42.30</td>\n",
       "      <td>1840.75</td>\n",
       "      <td>No</td>\n",
       "    </tr>\n",
       "  </tbody>\n",
       "</table>\n",
       "<p>5 rows × 21 columns</p>\n",
       "</div>"
      ],
      "text/plain": [
       "  Customer ID  Gender  Senior Citizen Partner Dependents  tenure  \\\n",
       "0  7590-VHVEA  Female               0     Yes         No       1   \n",
       "1  7590-VHVEG  Female               0     Yes         No       1   \n",
       "2  5575-GNVDE    Male               0      No         No      34   \n",
       "3  3668-QPYBK    Male               0      No         No       2   \n",
       "4  7795-CFOCW    Male               0      No         No      45   \n",
       "\n",
       "  Phone Service    Multiple Lines Internet Service Online Security  ...  \\\n",
       "0            No  No phone service              DSL              No  ...   \n",
       "1            No  No phone service              DSL              No  ...   \n",
       "2           Yes                No              DSL             Yes  ...   \n",
       "3           Yes                No              DSL             Yes  ...   \n",
       "4            No  No phone service              DSL             Yes  ...   \n",
       "\n",
       "  Device Protection Tech Support Streaming TV Streaming Movies  \\\n",
       "0                No           No           No               No   \n",
       "1                No           No           No               No   \n",
       "2               Yes           No           No               No   \n",
       "3                No           No           No               No   \n",
       "4               Yes          Yes           No               No   \n",
       "\n",
       "         Contract Paperless Billing             Payment Method  \\\n",
       "0  Month-to-month               Yes           Electronic check   \n",
       "1  Month-to-month               Yes           Electronic check   \n",
       "2        One year                No               Mailed check   \n",
       "3  Month-to-month               Yes               Mailed check   \n",
       "4        One year                No  Bank transfer (automatic)   \n",
       "\n",
       "  Monthly Charges  Total Charges Churn  \n",
       "0           29.85          29.85    No  \n",
       "1           29.85          29.85    No  \n",
       "2           56.95         1889.5    No  \n",
       "3           53.85         108.15   Yes  \n",
       "4           42.30        1840.75    No  \n",
       "\n",
       "[5 rows x 21 columns]"
      ]
     },
     "execution_count": 2,
     "metadata": {},
     "output_type": "execute_result"
    }
   ],
   "source": [
    "df = pd.read_csv('Churn.csv')\n",
    "df.head()"
   ]
  },
  {
   "cell_type": "code",
   "execution_count": null,
   "id": "0fc0be29",
   "metadata": {},
   "outputs": [],
   "source": []
  },
  {
   "cell_type": "code",
   "execution_count": 3,
   "id": "2bdb2951",
   "metadata": {},
   "outputs": [
    {
     "data": {
      "text/plain": [
       "0    0\n",
       "1    0\n",
       "2    0\n",
       "3    1\n",
       "4    0\n",
       "Name: Churn, dtype: int64"
      ]
     },
     "execution_count": 3,
     "metadata": {},
     "output_type": "execute_result"
    }
   ],
   "source": [
    "X = pd.get_dummies(df.drop(['Churn','Customer ID'],axis=1))\n",
    "Y=df['Churn'].apply(lambda x: 1 if x=='Yes' else 0)\n",
    "Y.head()"
   ]
  },
  {
   "cell_type": "code",
   "execution_count": 4,
   "id": "30169ac6",
   "metadata": {},
   "outputs": [],
   "source": [
    "X_train, X_test, Y_train, Y_test = train_test_split(X,Y,test_size=.5)"
   ]
  },
  {
   "cell_type": "code",
   "execution_count": 5,
   "id": "96909584",
   "metadata": {},
   "outputs": [
    {
     "data": {
      "text/plain": [
       "2547    0\n",
       "3244    0\n",
       "1324    0\n",
       "5143    0\n",
       "2965    0\n",
       "Name: Churn, dtype: int64"
      ]
     },
     "execution_count": 5,
     "metadata": {},
     "output_type": "execute_result"
    }
   ],
   "source": [
    "Y_train.head()"
   ]
  },
  {
   "cell_type": "code",
   "execution_count": 6,
   "id": "0d54b77a",
   "metadata": {},
   "outputs": [],
   "source": [
    "from tensorflow.keras.models import Sequential, load_model"
   ]
  },
  {
   "cell_type": "code",
   "execution_count": 7,
   "id": "66217958",
   "metadata": {},
   "outputs": [],
   "source": [
    "from tensorflow.keras.layers import Dense"
   ]
  },
  {
   "cell_type": "code",
   "execution_count": 8,
   "id": "fa30c9c9",
   "metadata": {},
   "outputs": [],
   "source": [
    "from sklearn.metrics import accuracy_score"
   ]
  },
  {
   "cell_type": "code",
   "execution_count": 9,
   "id": "52464c1b",
   "metadata": {},
   "outputs": [],
   "source": [
    "model = Sequential()\n",
    "model.add(Dense(units=32, activation='relu', input_dim=len(X_train.columns)))\n",
    "model.add(Dense(units=64, activation='relu'))\n",
    "model.add(Dense(units=1, activation='sigmoid'))"
   ]
  },
  {
   "cell_type": "code",
   "execution_count": 10,
   "id": "b1cf7d84",
   "metadata": {},
   "outputs": [],
   "source": [
    "model.compile(loss='binary_crossentropy', optimizer='sgd', metrics='accuracy')"
   ]
  },
  {
   "cell_type": "code",
   "execution_count": 11,
   "id": "a6ec453e",
   "metadata": {},
   "outputs": [
    {
     "name": "stdout",
     "output_type": "stream",
     "text": [
      "Epoch 1/100\n",
      "111/111 [==============================] - 0s 1ms/step - loss: 0.5236 - accuracy: 0.7479\n",
      "Epoch 2/100\n",
      "111/111 [==============================] - 0s 1ms/step - loss: 0.5014 - accuracy: 0.7689\n",
      "Epoch 3/100\n",
      "111/111 [==============================] - 0s 1ms/step - loss: 0.4964 - accuracy: 0.7694\n",
      "Epoch 4/100\n",
      "111/111 [==============================] - 0s 1ms/step - loss: 0.4883 - accuracy: 0.7737\n",
      "Epoch 5/100\n",
      "111/111 [==============================] - 0s 1ms/step - loss: 0.4878 - accuracy: 0.7763\n",
      "Epoch 6/100\n",
      "111/111 [==============================] - 0s 1ms/step - loss: 0.4898 - accuracy: 0.7706\n",
      "Epoch 7/100\n",
      "111/111 [==============================] - 0s 1ms/step - loss: 0.4854 - accuracy: 0.7686\n",
      "Epoch 8/100\n",
      "111/111 [==============================] - 0s 1ms/step - loss: 0.4917 - accuracy: 0.7663\n",
      "Epoch 9/100\n",
      "111/111 [==============================] - 0s 1ms/step - loss: 0.4832 - accuracy: 0.7706\n",
      "Epoch 10/100\n",
      "111/111 [==============================] - 0s 1ms/step - loss: 0.4783 - accuracy: 0.7743\n",
      "Epoch 11/100\n",
      "111/111 [==============================] - 0s 1ms/step - loss: 0.4776 - accuracy: 0.7757\n",
      "Epoch 12/100\n",
      "111/111 [==============================] - 0s 1ms/step - loss: 0.4758 - accuracy: 0.7751\n",
      "Epoch 13/100\n",
      "111/111 [==============================] - 0s 1ms/step - loss: 0.4736 - accuracy: 0.7774\n",
      "Epoch 14/100\n",
      "111/111 [==============================] - 0s 1ms/step - loss: 0.4743 - accuracy: 0.7777\n",
      "Epoch 15/100\n",
      "111/111 [==============================] - 0s 1ms/step - loss: 0.4734 - accuracy: 0.7771\n",
      "Epoch 16/100\n",
      "111/111 [==============================] - 0s 1ms/step - loss: 0.4741 - accuracy: 0.7783\n",
      "Epoch 17/100\n",
      "111/111 [==============================] - 0s 1ms/step - loss: 0.4684 - accuracy: 0.7783\n",
      "Epoch 18/100\n",
      "111/111 [==============================] - 0s 1ms/step - loss: 0.4696 - accuracy: 0.7729\n",
      "Epoch 19/100\n",
      "111/111 [==============================] - 0s 1ms/step - loss: 0.4700 - accuracy: 0.7771\n",
      "Epoch 20/100\n",
      "111/111 [==============================] - 0s 1ms/step - loss: 0.4785 - accuracy: 0.7726\n",
      "Epoch 21/100\n",
      "111/111 [==============================] - 0s 1ms/step - loss: 0.4680 - accuracy: 0.7811\n",
      "Epoch 22/100\n",
      "111/111 [==============================] - 0s 1ms/step - loss: 0.4675 - accuracy: 0.7771\n",
      "Epoch 23/100\n",
      "111/111 [==============================] - 0s 1ms/step - loss: 0.4653 - accuracy: 0.7811\n",
      "Epoch 24/100\n",
      "111/111 [==============================] - 0s 1ms/step - loss: 0.4700 - accuracy: 0.7768\n",
      "Epoch 25/100\n",
      "111/111 [==============================] - 0s 1ms/step - loss: 0.4700 - accuracy: 0.7754\n",
      "Epoch 26/100\n",
      "111/111 [==============================] - 0s 1ms/step - loss: 0.4702 - accuracy: 0.7771\n",
      "Epoch 27/100\n",
      "111/111 [==============================] - 0s 1ms/step - loss: 0.4671 - accuracy: 0.7777\n",
      "Epoch 28/100\n",
      "111/111 [==============================] - 0s 1ms/step - loss: 0.4666 - accuracy: 0.7754\n",
      "Epoch 29/100\n",
      "111/111 [==============================] - 0s 1ms/step - loss: 0.4625 - accuracy: 0.7802\n",
      "Epoch 30/100\n",
      "111/111 [==============================] - 0s 1ms/step - loss: 0.4646 - accuracy: 0.7811\n",
      "Epoch 31/100\n",
      "111/111 [==============================] - 0s 1ms/step - loss: 0.4617 - accuracy: 0.7771\n",
      "Epoch 32/100\n",
      "111/111 [==============================] - 0s 1ms/step - loss: 0.4750 - accuracy: 0.7723\n",
      "Epoch 33/100\n",
      "111/111 [==============================] - 0s 1ms/step - loss: 0.4636 - accuracy: 0.7748\n",
      "Epoch 34/100\n",
      "111/111 [==============================] - 0s 1ms/step - loss: 0.4638 - accuracy: 0.7777\n",
      "Epoch 35/100\n",
      "111/111 [==============================] - 0s 1ms/step - loss: 0.4610 - accuracy: 0.7800\n",
      "Epoch 36/100\n",
      "111/111 [==============================] - 0s 1ms/step - loss: 0.4627 - accuracy: 0.7783\n",
      "Epoch 37/100\n",
      "111/111 [==============================] - 0s 1ms/step - loss: 0.4592 - accuracy: 0.7825\n",
      "Epoch 38/100\n",
      "111/111 [==============================] - 0s 1ms/step - loss: 0.4646 - accuracy: 0.7774\n",
      "Epoch 39/100\n",
      "111/111 [==============================] - 0s 1ms/step - loss: 0.4627 - accuracy: 0.7802\n",
      "Epoch 40/100\n",
      "111/111 [==============================] - 0s 1ms/step - loss: 0.4617 - accuracy: 0.7819\n",
      "Epoch 41/100\n",
      "111/111 [==============================] - 0s 1ms/step - loss: 0.4587 - accuracy: 0.7783\n",
      "Epoch 42/100\n",
      "111/111 [==============================] - 0s 1ms/step - loss: 0.4604 - accuracy: 0.7802\n",
      "Epoch 43/100\n",
      "111/111 [==============================] - 0s 1ms/step - loss: 0.4556 - accuracy: 0.7805\n",
      "Epoch 44/100\n",
      "111/111 [==============================] - 0s 1ms/step - loss: 0.4571 - accuracy: 0.7808\n",
      "Epoch 45/100\n",
      "111/111 [==============================] - 0s 1ms/step - loss: 0.4567 - accuracy: 0.7831\n",
      "Epoch 46/100\n",
      "111/111 [==============================] - 0s 1ms/step - loss: 0.4561 - accuracy: 0.7771\n",
      "Epoch 47/100\n",
      "111/111 [==============================] - 0s 1ms/step - loss: 0.4592 - accuracy: 0.7794\n",
      "Epoch 48/100\n",
      "111/111 [==============================] - 0s 1ms/step - loss: 0.4625 - accuracy: 0.7791\n",
      "Epoch 49/100\n",
      "111/111 [==============================] - 0s 1ms/step - loss: 0.4576 - accuracy: 0.7760\n",
      "Epoch 50/100\n",
      "111/111 [==============================] - 0s 1ms/step - loss: 0.4591 - accuracy: 0.7783\n",
      "Epoch 51/100\n",
      "111/111 [==============================] - 0s 1ms/step - loss: 0.4556 - accuracy: 0.7845\n",
      "Epoch 52/100\n",
      "111/111 [==============================] - 0s 1ms/step - loss: 0.4595 - accuracy: 0.7811\n",
      "Epoch 53/100\n",
      "111/111 [==============================] - 0s 1ms/step - loss: 0.4557 - accuracy: 0.7822\n",
      "Epoch 54/100\n",
      "111/111 [==============================] - 0s 1ms/step - loss: 0.4572 - accuracy: 0.7800\n",
      "Epoch 55/100\n",
      "111/111 [==============================] - 0s 1ms/step - loss: 0.4519 - accuracy: 0.7853\n",
      "Epoch 56/100\n",
      "111/111 [==============================] - 0s 1ms/step - loss: 0.4558 - accuracy: 0.7831\n",
      "Epoch 57/100\n",
      "111/111 [==============================] - 0s 1ms/step - loss: 0.4556 - accuracy: 0.7842\n",
      "Epoch 58/100\n",
      "111/111 [==============================] - 0s 1ms/step - loss: 0.4520 - accuracy: 0.7842\n",
      "Epoch 59/100\n",
      "111/111 [==============================] - 0s 1ms/step - loss: 0.4572 - accuracy: 0.7788\n",
      "Epoch 60/100\n",
      "111/111 [==============================] - 0s 1ms/step - loss: 0.4609 - accuracy: 0.7808\n",
      "Epoch 61/100\n",
      "111/111 [==============================] - 0s 1ms/step - loss: 0.4541 - accuracy: 0.7777\n",
      "Epoch 62/100\n",
      "111/111 [==============================] - 0s 1ms/step - loss: 0.4562 - accuracy: 0.7808\n",
      "Epoch 63/100\n",
      "111/111 [==============================] - 0s 1ms/step - loss: 0.4538 - accuracy: 0.7859\n",
      "Epoch 64/100\n",
      "111/111 [==============================] - 0s 1ms/step - loss: 0.4544 - accuracy: 0.7836\n",
      "Epoch 65/100\n",
      "111/111 [==============================] - 0s 1ms/step - loss: 0.4522 - accuracy: 0.7817\n",
      "Epoch 66/100\n",
      "111/111 [==============================] - 0s 1ms/step - loss: 0.4517 - accuracy: 0.7819\n",
      "Epoch 67/100\n",
      "111/111 [==============================] - 0s 1ms/step - loss: 0.4563 - accuracy: 0.7825\n",
      "Epoch 68/100\n",
      "111/111 [==============================] - 0s 1ms/step - loss: 0.4529 - accuracy: 0.7828\n",
      "Epoch 69/100\n",
      "111/111 [==============================] - 0s 1ms/step - loss: 0.4534 - accuracy: 0.7865\n",
      "Epoch 70/100\n",
      "111/111 [==============================] - 0s 1ms/step - loss: 0.4499 - accuracy: 0.7865\n",
      "Epoch 71/100\n",
      "111/111 [==============================] - 0s 1ms/step - loss: 0.4646 - accuracy: 0.7700\n",
      "Epoch 72/100\n",
      "111/111 [==============================] - 0s 1ms/step - loss: 0.4570 - accuracy: 0.7831\n",
      "Epoch 73/100\n",
      "111/111 [==============================] - 0s 1ms/step - loss: 0.4555 - accuracy: 0.7768\n",
      "Epoch 74/100\n",
      "111/111 [==============================] - 0s 1ms/step - loss: 0.4505 - accuracy: 0.7814\n",
      "Epoch 75/100\n",
      "111/111 [==============================] - 0s 1ms/step - loss: 0.4611 - accuracy: 0.7740\n",
      "Epoch 76/100\n",
      "111/111 [==============================] - 0s 1ms/step - loss: 0.4607 - accuracy: 0.7754\n",
      "Epoch 77/100\n",
      "111/111 [==============================] - 0s 1ms/step - loss: 0.4559 - accuracy: 0.7754\n",
      "Epoch 78/100\n",
      "111/111 [==============================] - 0s 1ms/step - loss: 0.4609 - accuracy: 0.7765\n",
      "Epoch 79/100\n",
      "111/111 [==============================] - 0s 1ms/step - loss: 0.4588 - accuracy: 0.7760\n",
      "Epoch 80/100\n",
      "111/111 [==============================] - 0s 1ms/step - loss: 0.4592 - accuracy: 0.7760\n",
      "Epoch 81/100\n"
     ]
    },
    {
     "name": "stdout",
     "output_type": "stream",
     "text": [
      "111/111 [==============================] - 0s 1ms/step - loss: 0.4551 - accuracy: 0.7780\n",
      "Epoch 82/100\n",
      "111/111 [==============================] - 0s 1ms/step - loss: 0.4572 - accuracy: 0.7788\n",
      "Epoch 83/100\n",
      "111/111 [==============================] - 0s 1ms/step - loss: 0.4560 - accuracy: 0.7760\n",
      "Epoch 84/100\n",
      "111/111 [==============================] - 0s 1ms/step - loss: 0.4561 - accuracy: 0.7785\n",
      "Epoch 85/100\n",
      "111/111 [==============================] - 0s 1ms/step - loss: 0.4540 - accuracy: 0.7774\n",
      "Epoch 86/100\n",
      "111/111 [==============================] - 0s 1ms/step - loss: 0.4548 - accuracy: 0.7768\n",
      "Epoch 87/100\n",
      "111/111 [==============================] - 0s 1ms/step - loss: 0.4513 - accuracy: 0.7842\n",
      "Epoch 88/100\n",
      "111/111 [==============================] - 0s 1ms/step - loss: 0.4607 - accuracy: 0.7757\n",
      "Epoch 89/100\n",
      "111/111 [==============================] - 0s 1ms/step - loss: 0.4549 - accuracy: 0.7794\n",
      "Epoch 90/100\n",
      "111/111 [==============================] - 0s 1ms/step - loss: 0.4520 - accuracy: 0.7853\n",
      "Epoch 91/100\n",
      "111/111 [==============================] - 0s 1ms/step - loss: 0.4490 - accuracy: 0.7859\n",
      "Epoch 92/100\n",
      "111/111 [==============================] - 0s 1ms/step - loss: 0.4524 - accuracy: 0.7834\n",
      "Epoch 93/100\n",
      "111/111 [==============================] - 0s 1ms/step - loss: 0.4529 - accuracy: 0.7834\n",
      "Epoch 94/100\n",
      "111/111 [==============================] - 0s 1ms/step - loss: 0.4476 - accuracy: 0.7851\n",
      "Epoch 95/100\n",
      "111/111 [==============================] - 0s 1ms/step - loss: 0.4491 - accuracy: 0.7834\n",
      "Epoch 96/100\n",
      "111/111 [==============================] - 0s 1ms/step - loss: 0.4510 - accuracy: 0.7851\n",
      "Epoch 97/100\n",
      "111/111 [==============================] - 0s 1ms/step - loss: 0.4568 - accuracy: 0.7805\n",
      "Epoch 98/100\n",
      "111/111 [==============================] - 0s 1ms/step - loss: 0.4533 - accuracy: 0.7836\n",
      "Epoch 99/100\n",
      "111/111 [==============================] - 0s 1ms/step - loss: 0.4498 - accuracy: 0.7819\n",
      "Epoch 100/100\n",
      "111/111 [==============================] - 0s 1ms/step - loss: 0.4507 - accuracy: 0.7856\n"
     ]
    },
    {
     "data": {
      "text/plain": [
       "<keras.callbacks.History at 0x7f52b461ac50>"
      ]
     },
     "execution_count": 11,
     "metadata": {},
     "output_type": "execute_result"
    }
   ],
   "source": [
    "model.fit(X_train,Y_train,epochs=100, batch_size = 32)"
   ]
  },
  {
   "cell_type": "code",
   "execution_count": 12,
   "id": "e408a3e4",
   "metadata": {},
   "outputs": [],
   "source": [
    "Y_hat = model.predict(X_test)\n",
    "Y_hat = [0 if val <0.5 else 1 for val in Y_hat]"
   ]
  },
  {
   "cell_type": "code",
   "execution_count": 13,
   "id": "a4e1930a",
   "metadata": {},
   "outputs": [
    {
     "name": "stdout",
     "output_type": "stream",
     "text": [
      "1\n",
      "0\n"
     ]
    }
   ],
   "source": [
    "print(max(Y_hat))\n",
    "print(min(Y_hat))\n"
   ]
  },
  {
   "cell_type": "code",
   "execution_count": 14,
   "id": "92180cfd",
   "metadata": {},
   "outputs": [
    {
     "data": {
      "text/plain": [
       "0.7498580352072686"
      ]
     },
     "execution_count": 14,
     "metadata": {},
     "output_type": "execute_result"
    }
   ],
   "source": [
    "accuracy_score(Y_test,Y_hat)"
   ]
  },
  {
   "cell_type": "code",
   "execution_count": 15,
   "id": "d51072d9",
   "metadata": {},
   "outputs": [
    {
     "name": "stdout",
     "output_type": "stream",
     "text": [
      "INFO:tensorflow:Assets written to: tfHARmodel/assets\n"
     ]
    }
   ],
   "source": [
    "model.save('tfHARmodel')"
   ]
  },
  {
   "cell_type": "code",
   "execution_count": null,
   "id": "524d3728",
   "metadata": {},
   "outputs": [],
   "source": []
  }
 ],
 "metadata": {
  "kernelspec": {
   "display_name": "Python 3",
   "language": "python",
   "name": "python3"
  },
  "language_info": {
   "codemirror_mode": {
    "name": "ipython",
    "version": 3
   },
   "file_extension": ".py",
   "mimetype": "text/x-python",
   "name": "python",
   "nbconvert_exporter": "python",
   "pygments_lexer": "ipython3",
   "version": "3.6.9"
  }
 },
 "nbformat": 4,
 "nbformat_minor": 5
}
